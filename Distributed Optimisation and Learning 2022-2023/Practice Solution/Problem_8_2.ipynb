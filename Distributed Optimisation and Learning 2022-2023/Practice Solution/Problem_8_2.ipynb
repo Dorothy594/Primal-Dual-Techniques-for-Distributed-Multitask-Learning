{
 "cells": [
  {
   "attachments": {},
   "cell_type": "markdown",
   "metadata": {},
   "source": [
    "**Problem 8.2** For a deterministic optimization problem of your choice, implement the consensus+innovation, EXTRA and gradient-tracking algorithms and show that consensus+innovations exhibits a bias, while EXTRA and gradient-tracking converge exactly. How do these findings change with the choice of the step-size $\\mu$?\n",
    "\n",
    "\n",
    "**Solution.** We generate quadratic problems in a manner similar to **Problem 1.1** to demonstrate the benefit of employing bias-corrected algorithms. An advantage of quadratic problems is that we will be possible to compute exact solutions in closed form. This simplifies the problem of evaluating the error.\n",
    "\n",
    "We generate local data sets $\\{ h_{k, n}, \\gamma_{k, n} \\}_{n=1}^N$ following the statistical model of Example 1.4. To exacerbate the local heterogeneity in the data sets, we use variable local models $w_k$. We begin by importing some standard packages which will be useful throughout this exercise:"
   ]
  },
  {
   "cell_type": "code",
   "execution_count": 3,
   "metadata": {},
   "outputs": [
    {
     "ename": "ModuleNotFoundError",
     "evalue": "No module named 'numpy'",
     "output_type": "error",
     "traceback": [
      "\u001b[1;31m---------------------------------------------------------------------------\u001b[0m",
      "\u001b[1;31mModuleNotFoundError\u001b[0m                       Traceback (most recent call last)",
      "Cell \u001b[1;32mIn[3], line 1\u001b[0m\n\u001b[1;32m----> 1\u001b[0m \u001b[38;5;28;01mimport\u001b[39;00m \u001b[38;5;21;01mnumpy\u001b[39;00m \u001b[38;5;28;01mas\u001b[39;00m \u001b[38;5;21;01mnp\u001b[39;00m\n\u001b[0;32m      2\u001b[0m \u001b[38;5;28;01mimport\u001b[39;00m \u001b[38;5;21;01mscipy\u001b[39;00m \u001b[38;5;28;01mas\u001b[39;00m \u001b[38;5;21;01msp\u001b[39;00m\n\u001b[0;32m      3\u001b[0m \u001b[38;5;28;01mimport\u001b[39;00m \u001b[38;5;21;01mmatplotlib\u001b[39;00m\u001b[38;5;21;01m.\u001b[39;00m\u001b[38;5;21;01mpyplot\u001b[39;00m \u001b[38;5;28;01mas\u001b[39;00m \u001b[38;5;21;01mplt\u001b[39;00m\n",
      "\u001b[1;31mModuleNotFoundError\u001b[0m: No module named 'numpy'"
     ]
    }
   ],
   "source": [
    "import numpy as np\n",
    "import scipy as sp\n",
    "import matplotlib.pyplot as plt\n",
    "%matplotlib inline"
   ]
  },
  {
   "attachments": {},
   "cell_type": "markdown",
   "metadata": {},
   "source": [
    "We begin by setting the variance parameters $\\sigma_w^2, \\sigma_h^2, \\sigma_v^2$, network size $K$, sample size $N$ and dimension $M$. Then generate a realization of the weight vector $w$ by sampling once from the normal distribution $\\mathcal{N}(0, \\sigma_w^2 I_M)$. For each agent $k$, we sample $N$ times from $\\mathcal{N}(0, \\sigma_h^2 I_M)$ to generate $\\{ h_{k, n} \\}_{n=1}^N$, and $N$ times from $\\mathcal{N}(0, \\sigma_v^2)$ to generate $\\{ v_{k, n} \\}_{n=1}^N$. $\\{ \\gamma_{k, n} \\}_{n=1}^N$ are then generated according to the linear model (1.28). We store data sets in matrices for compact coding."
   ]
  },
  {
   "cell_type": "code",
   "execution_count": null,
   "metadata": {},
   "outputs": [],
   "source": [
    "sigma_h_squared = 1\n",
    "sigma_v_squared = 1\n",
    "sigma_w_squared = 1\n",
    "sigma_w_variation_squared = 1\n",
    "\n",
    "M = 2\n",
    "K = 10\n",
    "N = 15\n",
    "\n",
    "rho = 0\n",
    "\n",
    "w = np.random.multivariate_normal(np.zeros(M), np.square(sigma_w_squared)*np.eye(M), K).T\n",
    "\n",
    "h = np.zeros((M, N, K))\n",
    "v = np.zeros((N, K))\n",
    "gamma = np.zeros((N, K))\n",
    "for k in range(K):\n",
    "    h[:, :, k] = np.random.multivariate_normal(np.zeros(M), sigma_h_squared*np.eye(M), N).T\n",
    "    v[:, k] = np.random.normal(0, sigma_v_squared, N).T\n",
    "    gamma[:, k] = np.matmul(h[:, :, k].T, w[:, k]) + v[:, k]"
   ]
  },
  {
   "attachments": {},
   "cell_type": "markdown",
   "metadata": {},
   "source": [
    "We now compute the locally and globally optimal models using the same calculations as in Problem 1.1."
   ]
  },
  {
   "cell_type": "code",
   "execution_count": null,
   "metadata": {},
   "outputs": [],
   "source": [
    "H_k = np.zeros((M, M, K))\n",
    "d_k = np.zeros((M, K))\n",
    "\n",
    "H = np.zeros((M, M))\n",
    "d = np.zeros(M)\n",
    "\n",
    "w_k_star = np.zeros((M, K))\n",
    "\n",
    "for k in range(K):\n",
    "    for n in range(N):\n",
    "        H_k[:, :, k] += np.outer(h[:, n, k], h[:, n, k])\n",
    "        d_k[:, k] += gamma[n, k]*h[:, n, k]\n",
    "    w_k_star[:, k] = np.linalg.solve(H_k[:, :, k] + rho*np.eye(M), d_k[:, k])\n",
    "\n",
    "    H += H_k[:, :, k]\n",
    "    d += d_k[:, k]\n",
    "\n",
    "w_star = np.linalg.solve(H + rho*np.eye(M), d)"
   ]
  },
  {
   "attachments": {},
   "cell_type": "markdown",
   "metadata": {},
   "source": [
    "Now, we generate a graph using the structure of Problem 7.2."
   ]
  },
  {
   "cell_type": "code",
   "execution_count": null,
   "metadata": {},
   "outputs": [],
   "source": [
    "p_edge = 0.1\n",
    "\n",
    "lambda_2 = 1\n",
    "while lambda_2 > 0.99999999:\n",
    "    C = np.eye(K)\n",
    "    for k in range(K):\n",
    "        for l in range(k+1, K):\n",
    "            connected = np.random.binomial(1, p_edge)\n",
    "            if connected == 1:\n",
    "                C[l, k] = 1\n",
    "                C[k, l] = 1\n",
    "\n",
    "    n = C@np.ones((K,))\n",
    "\n",
    "    A = np.zeros((K, K))\n",
    "    for k in range(K):\n",
    "        for l in range(k+1, K):\n",
    "            if C[k, l] == 1:\n",
    "                A[k, l] = np.true_divide(1, np.max([n[k], n[l]]))\n",
    "                A[l, k] = A[k, l]\n",
    "\n",
    "    degrees = A@np.ones((K,))\n",
    "    for k in range(K):\n",
    "        A[k, k] = 1 - degrees[k]\n",
    "\n",
    "    eigs = np.linalg.eigvalsh(A)\n",
    "    lambda_2 = eigs[-2]\n"
   ]
  },
  {
   "attachments": {},
   "cell_type": "markdown",
   "metadata": {},
   "source": [
    "We are not ready to implement the consensus+innovations, EXTRA and NEXT algorithm."
   ]
  },
  {
   "cell_type": "code",
   "execution_count": null,
   "metadata": {},
   "outputs": [],
   "source": [
    "iterations = 1000\n",
    "experiments = 1\n",
    "mu = 0.01\n",
    "\n",
    "w_ci = np.zeros((M, K, iterations, experiments))\n",
    "w_extra = np.zeros((M, K, iterations, experiments))\n",
    "w_tracking = np.zeros((M, K, iterations, experiments))\n",
    "\n",
    "psi_extra = np.zeros((M, K, iterations, experiments))\n",
    "g_tracking = np.zeros((M, K, iterations, experiments))\n",
    "\n",
    "error_ci = np.zeros((K, iterations, experiments))\n",
    "error_extra = np.zeros((K, iterations, experiments))\n",
    "error_tracking = np.zeros((K, iterations, experiments))\n",
    "\n",
    "for run in range(experiments):\n",
    "    # Consensus + Innovations\n",
    "    for k in range(K):\n",
    "        for l in range(K):\n",
    "            w_ci[:, k, 1, run] += A[l, k]*w_ci[:, l, 0, run]\n",
    "    for k in range(K):\n",
    "        w_ci[:, k, 1, run] += -np.true_divide(mu, N) * rho * w_ci[:, k, 0, run] + np.true_divide(mu, N) * (d_k[:, k] - np.dot(H_k[:, :, k].T, w_ci[:, k, 0, run]))\n",
    "        error_ci[k, 0, run] = np.square(np.linalg.norm(w_ci[:, k, 0, run] - w_star))\n",
    "\n",
    "    # EXTRA\n",
    "    for k in range(K):\n",
    "        for l in range(K):\n",
    "            w_extra[:, k, 1, run] += A[l, k]*w_extra[:, l, 0, run]\n",
    "    for k in range(K):\n",
    "        w_extra[:, k, 1, run] += -np.true_divide(mu, N) * rho * w_extra[:, k, 0, run] + np.true_divide(mu, N) * (d_k[:, k] - np.dot(H_k[:, :, k].T, w_extra[:, k, 0, run]))\n",
    "        w_extra[:, k, 1, run] = psi_extra[:, k, 1, run]\n",
    "        error_extra[k, 0, run] = np.square(np.linalg.norm(w_extra[:, k, 0, run] - w_star))\n",
    "\n",
    "    # NEXT\n",
    "    for k in range(K):\n",
    "        for l in range(K):\n",
    "            w_tracking[:, k, 1, run] += A[l, k]*w_tracking[:, l, 0, run]\n",
    "            g_tracking[:, k, 1, run] += A[l, k]*g_tracking[:, l, 0, run]\n",
    "    for k in range(K):\n",
    "        w_tracking[:, k, 1, run] += -np.true_divide(mu, N) * rho * w_tracking[:, k, 0, run] + np.true_divide(mu, N) * (d_k[:, k] - np.dot(H_k[:, :, k].T, w_tracking[:, k, 0, run]))\n",
    "        g_tracking[:, k, 1, run] += - rho * w_tracking[:, k, 0, run] +  (d_k[:, k] - np.dot(H_k[:, :, k].T, w_tracking[:, k, 0, run]))\n",
    "        \n",
    "        error_tracking[k, 0, run] = np.square(np.linalg.norm(w_tracking[:, k, 0, run] - w_star))\n",
    "\n",
    "    for i in range(1, iterations):\n",
    "        # Consensus + Innovations\n",
    "        for k in range(K):\n",
    "            for l in range(K):\n",
    "                w_ci[:, k, i, run] += A[l, k] * w_ci[:, l, i-1, run]\n",
    "    \n",
    "        for k in range(K):\n",
    "            w_ci[:, k, i, run] += -np.true_divide(mu, N) * rho * w_ci[:, k, i-1, run] + np.true_divide(mu, N) * (d_k[:, k] - np.dot(H_k[:, :, k].T, w_ci[:, k, i-1, run]))\n",
    "            error_ci[k, i, run] = np.square(np.linalg.norm(w_ci[:, k, i, run] - w_star))\n",
    "\n",
    "        # EXTRA\n",
    "        for k in range(K):\n",
    "            for l in range(K):\n",
    "                psi_extra[:, k, i, run] += A[l, k] * w_extra[:, l, i-1, run]\n",
    "    \n",
    "        for k in range(K):\n",
    "            w_extra[:, k, i, run] += psi_extra[:, k, i, run]\n",
    "            psi_extra[:, k, i, run] += -np.true_divide(mu, N) * rho * w_extra[:, k, i-1, run] + np.true_divide(mu, N) * (d_k[:, k] - np.dot(H_k[:, :, k].T, w_extra[:, k, i-1, run]))\n",
    "            w_extra[:, k, i, run] += psi_extra[:, k, i, run] - psi_extra[:, k, i-1, run]\n",
    "            error_extra[k, i, run] = np.square(np.linalg.norm(w_extra[:, k, i, run] - w_star))\n",
    "\n",
    "        # NEXT\n",
    "        for k in range(K):\n",
    "            for l in range(K):\n",
    "                w_tracking[:, k, i, run] += A[l, k]*w_tracking[:, l, i-1, run]\n",
    "                g_tracking[:, k, i, run] += A[l, k]*g_tracking[:, l, i-1, run]\n",
    "        for k in range(K):\n",
    "            w_tracking[:, k, i, run] += g_tracking[:, k, i-1, run]\n",
    "            g_tracking[:, k, i, run] += -np.true_divide(mu, N) * rho * w_tracking[:, k, i-1, run] + np.true_divide(mu, N) * (d_k[:, k] - np.dot(H_k[:, :, k].T, w_tracking[:, k, i-1, run])) + np.true_divide(mu, N) * rho * w_tracking[:, k, i-2, run] - np.true_divide(mu, N) * (d_k[:, k] - np.dot(H_k[:, :, k].T, w_tracking[:, k, i-2, run]))\n",
    "        \n",
    "            error_tracking[k, i, run] = np.square(np.linalg.norm(w_tracking[:, k, i, run] - w_star))\n",
    "       "
   ]
  },
  {
   "attachments": {},
   "cell_type": "markdown",
   "metadata": {},
   "source": [
    "Finally, we generate the learning curves and plot."
   ]
  },
  {
   "cell_type": "code",
   "execution_count": null,
   "metadata": {},
   "outputs": [
    {
     "data": {
      "image/png": "[encoded data removed]",
      "text/plain": [
       "<Figure size 640x480 with 1 Axes>"
      ]
     },
     "metadata": {},
     "output_type": "display_data"
    }
   ],
   "source": [
    " \n",
    "learning_curve_ci = np.mean(np.mean(error_ci, axis=2), axis=0)\n",
    "learning_curve_extra = np.mean(np.mean(error_extra, axis=2), axis=0)\n",
    "learning_curve_tracking = np.mean(np.mean(error_tracking, axis=2), axis=0)\n",
    "plt.figure()\n",
    "plt.semilogy(range(iterations), learning_curve_ci, linewidth=2, label='Consensus+innovations')\n",
    "plt.semilogy(range(iterations), learning_curve_extra, linewidth=2, label='EXTRA')\n",
    "plt.semilogy(range(iterations), learning_curve_extra, ':', linewidth=2, label='Gradient-tracking')\n",
    "plt.xlabel('Iteration',fontsize=12,fontname='times new roman' )\n",
    "plt.ylabel('MSD in dB',fontsize= 12,fontname='times new roman' )\n",
    "plt.xlim(0,iterations)\n",
    "plt.legend()\n",
    "plt.grid()\n",
    "plt.show()"
   ]
  },
  {
   "attachments": {},
   "cell_type": "markdown",
   "metadata": {},
   "source": [
    "We observe that both EXTRA and gradient-tracking converge exactly, while consensus+innovations exhibits a bias. Reducing the step-size by a factor of $10$ reduces the bias by a factor of $100$, but is also associated with a reduction in the rate of convergence for all three algorithms."
   ]
  }
 ],
 "metadata": {
  "kernelspec": {
   "display_name": "Python 3",
   "language": "python",
   "name": "python3"
  },
  "language_info": {
   "codemirror_mode": {
    "name": "ipython",
    "version": 3
   },
   "file_extension": ".py",
   "mimetype": "text/x-python",
   "name": "python",
   "nbconvert_exporter": "python",
   "pygments_lexer": "ipython3",
   "version": "3.11.5"
  },
  "orig_nbformat": 4,
  "vscode": {
   "interpreter": {
    "hash": "5c7b89af1651d0b8571dde13640ecdccf7d5a6204171d6ab33e7c296e100e08a"
   }
  }
 },
 "nbformat": 4,
 "nbformat_minor": 2
}
