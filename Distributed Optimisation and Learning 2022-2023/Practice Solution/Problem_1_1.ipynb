{
 "cells": [
  {
   "attachments": {},
   "cell_type": "markdown",
   "metadata": {},
   "source": [
    "**Problem 1.1** In this problem we implement the least-squares fusion technique in (1.60) in code to verify empirically verify the benefit of data fusion. You are free to choose any unspecified parameters.\n",
    "\n",
    "**(a)** Generate local data sets $\\{ h_{k, n}, \\gamma_{k, n} \\}_{n=1}^N$ following the statistical model of Example 1.4.\n",
    "\n",
    "**Solution.** We begin by importing some standard packages which will be useful throughout this exercise:\n",
    "\n"
   ]
  },
  {
   "cell_type": "code",
   "execution_count": 21,
   "metadata": {},
   "outputs": [],
   "source": [
    "import numpy as np\n",
    "import matplotlib.pyplot as plt\n",
    "%matplotlib inline"
   ]
  },
  {
   "attachments": {},
   "cell_type": "markdown",
   "metadata": {},
   "source": [
    "We begin by setting the variance parameters $\\sigma_w^2, \\sigma_h^2, \\sigma_v^2$, network size $K$, sample size $N$ and dimension $M$. Then generate a realization of the weight vector $w$ by sampling once from the normal distribution $\\mathcal{N}(0, \\sigma_w^2 I_M)$. For each agent $k$, we sample $N$ times from $\\mathcal{N}(0, \\sigma_h^2 I_M)$ to generate $\\{ h_{k, n} \\}_{n=1}^N$, and $N$ times from $\\mathcal{N}(0, \\sigma_v^2)$ to generate $\\{ v_{k, n} \\}_{n=1}^N$. $\\{ \\gamma_{k, n} \\}_{n=1}^N$ are then generated according to the linear model (1.28). We store data sets in matrices for compact coding."
   ]
  },
  {
   "cell_type": "code",
   "execution_count": 22,
   "metadata": {},
   "outputs": [],
   "source": [
    "sigma_w = 1\n",
    "sigma_h = 1\n",
    "sigma_v = 1\n",
    "\n",
    "rho = np.square(np.true_divide(sigma_v, sigma_w))\n",
    "\n",
    "K = 1000\n",
    "N = 1\n",
    "M = 10\n",
    "\n",
    "w = np.random.multivariate_normal(np.zeros(M), np.square(sigma_w)*np.eye(M))\n",
    "\n",
    "h = np.zeros((M, N, K))\n",
    "v = np.zeros((N, K))\n",
    "gamma = np.zeros((N, K))\n",
    "for k in range(K):\n",
    "    h[:, :, k] = np.random.multivariate_normal(np.zeros(M), np.square(sigma_h)*np.eye(M), N).T\n",
    "    v[:, k] = np.random.normal(0, np.square(sigma_v), N).T\n",
    "    gamma[:, k] = np.matmul(h[:, :, k].T, w) + v[:, k]"
   ]
  },
  {
   "attachments": {},
   "cell_type": "markdown",
   "metadata": {},
   "source": [
    "**(b)** Compute $w_k^{\\star}$ for each agent along with the globally optimal model $w^{\\star}$.\n",
    "\n",
    "**Solution.** We make use of relations (1.53) and (1.56). To this end, we need to compute $H_k$ and $d_k$ as well as $H$ and $d$."
   ]
  },
  {
   "cell_type": "code",
   "execution_count": 23,
   "metadata": {},
   "outputs": [],
   "source": [
    "H_k = np.zeros((M, M, K))\n",
    "d_k = np.zeros((M, K))\n",
    "\n",
    "H = np.zeros((M, M))\n",
    "d = np.zeros(M)\n",
    "\n",
    "w_k_star = np.zeros((M, K))\n",
    "\n",
    "for k in range(K):\n",
    "    for n in range(N):\n",
    "        H_k[:, :, k] += np.outer(h[:, n, k], h[:, n, k])\n",
    "        d_k[:, k] += gamma[n, k]*h[:, n, k]\n",
    "    w_k_star[:, k] = np.linalg.solve(H_k[:, :, k] + rho*np.eye(M), d_k[:, k])\n",
    "\n",
    "    H += H_k[:, :, k]\n",
    "    d += d_k[:, k]\n",
    "\n",
    "w_star = np.linalg.solve(H + rho*np.eye(M), d)\n"
   ]
  },
  {
   "attachments": {},
   "cell_type": "markdown",
   "metadata": {},
   "source": [
    "**(c)** Generate a new independent test set $\\left\\{\\widetilde{h}_{n}, \\widetilde{\\gamma}_{n}\\right\\}_{n=1}^{\\widetilde{N}}$ and evaluate prediction performance of local models:\n",
    "    $$\\frac{1}{\\widetilde{N}} \\sum_{n=1}^{\\widetilde{N}} (\\widetilde{\\gamma}_n - \\widetilde{h}_n^{\\mathsf{T}} w_k^{\\star})^2$$\n",
    "  as well as of the performance of the global model:\n",
    "    $$\\frac{1}{\\widetilde{N}} \\sum_{n=1}^{\\widetilde{N}} (\\widetilde{\\gamma}_n - \\widetilde{h}_n^{\\mathsf{T}} w^{\\star})^2$$\n",
    "\n",
    "**Solution.** We generate the test sets by sampling in the same manner as when we generated the training set."
   ]
  },
  {
   "cell_type": "code",
   "execution_count": 24,
   "metadata": {},
   "outputs": [],
   "source": [
    "N_tilde = 10000\n",
    "\n",
    "h_tilde = np.random.multivariate_normal(np.zeros(M), np.square(sigma_h)*np.eye(M), N_tilde).T\n",
    "v_tilde = np.random.normal(0, np.square(sigma_v), N_tilde).T\n",
    "gamma_tilde = np.matmul(h_tilde.T, w) + v_tilde"
   ]
  },
  {
   "attachments": {},
   "cell_type": "markdown",
   "metadata": {},
   "source": [
    "Predictions then are computed as $\\widetilde{h}_n^{\\mathsf{T}} w_{k}^{\\star}$ and $\\widetilde{h}_n^{\\mathsf{T}} w^{\\star}$. We then compute the average mean-square prediction error of the local models with the mean-square prediction error of the global model."
   ]
  },
  {
   "cell_type": "code",
   "execution_count": 25,
   "metadata": {},
   "outputs": [
    {
     "name": "stdout",
     "output_type": "stream",
     "text": [
      "The average MSE of local models is: 3.9915414125506894\n",
      "The MSE of the global model is: 0.9937291054620632\n",
      "The MSE of the correct model is: 0.9861630700100513\n"
     ]
    }
   ],
   "source": [
    "gamma_predicted_k = np.zeros((N_tilde, K))\n",
    "mse_k = np.zeros(K)\n",
    "for k in range(K):\n",
    "    gamma_predicted_k[:, k] = np.matmul(h_tilde.T, w_k_star[:, k])\n",
    "    mse_k[k] = np.true_divide(np.square(np.linalg.norm(gamma_tilde - gamma_predicted_k[:, k])), N_tilde)\n",
    "mse_k_ave = np.mean(mse_k)\n",
    "\n",
    "gamma_predicted_glob = np.matmul(h_tilde.T, w_star)\n",
    "mse_glob = np.true_divide(np.square(np.linalg.norm(gamma_tilde - gamma_predicted_glob)), N_tilde)\n",
    "\n",
    "gamma_predicted_true = np.matmul(h_tilde.T, w)\n",
    "mse_true = np.true_divide(np.square(np.linalg.norm(gamma_tilde - gamma_predicted_true)), N_tilde)\n",
    "\n",
    "print('The average MSE of local models is:', mse_k_ave)\n",
    "print('The MSE of the global model is:', mse_glob)\n",
    "print('The MSE of the correct model is:', mse_true)"
   ]
  }
 ],
 "metadata": {
  "kernelspec": {
   "display_name": "Python 3",
   "language": "python",
   "name": "python3"
  },
  "language_info": {
   "codemirror_mode": {
    "name": "ipython",
    "version": 3
   },
   "file_extension": ".py",
   "mimetype": "text/x-python",
   "name": "python",
   "nbconvert_exporter": "python",
   "pygments_lexer": "ipython3",
   "version": "3.10.9"
  },
  "orig_nbformat": 4,
  "vscode": {
   "interpreter": {
    "hash": "b0fa6594d8f4cbf19f97940f81e996739fb7646882a419484c72d19e05852a7e"
   }
  }
 },
 "nbformat": 4,
 "nbformat_minor": 2
}
